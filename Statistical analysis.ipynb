{
 "cells": [
  {
   "cell_type": "code",
   "execution_count": null,
   "id": "3e709b03-bbad-4af0-95f4-b0d55bedf429",
   "metadata": {},
   "outputs": [],
   "source": [
    "# Statistical analysis\n",
    "# Calculate the eigenvalues and eigenvectors of a large sparse matrix using numpy's sparse matrix handling.\n"
   ]
  },
  {
   "cell_type": "code",
   "execution_count": 4,
   "id": "b3825f20-5773-41df-bc93-466bfdda7ca8",
   "metadata": {},
   "outputs": [
    {
     "name": "stdout",
     "output_type": "stream",
     "text": [
      "Eigenvalues:\n",
      " [-15.92118059 -15.72318327  15.73077983  15.79573078  15.90140857\n",
      "  51.57041124]\n",
      "\n",
      "Eigenvectors:\n",
      " [[ 0.04950514 -0.02800299 -0.00376952  0.02799062  0.00833986 -0.02468794]\n",
      " [ 0.00509569 -0.03324115  0.03374979 -0.00379727 -0.02119024 -0.034151  ]\n",
      " [-0.04326352  0.0018934  -0.00346228 -0.01916164 -0.04265358 -0.02535221]\n",
      " ...\n",
      " [ 0.05674367 -0.03851369  0.02855227  0.06720561 -0.00020648 -0.02896864]\n",
      " [ 0.01923164 -0.03511447 -0.04852572 -0.01152286 -0.00304417 -0.02742376]\n",
      " [-0.01069292 -0.03447048  0.07527595 -0.02152093 -0.01246723 -0.03827673]]\n"
     ]
    }
   ],
   "source": [
    "import numpy as np\n",
    "from scipy.sparse import random\n",
    "from scipy.sparse.linalg import eigsh\n",
    "\n",
    "size = 1000\n",
    "density = 0.05 \n",
    "sparse_matrix = random(size, size, density=density, format='csr')\n",
    "\n",
    "\n",
    "sparse_matrix = sparse_matrix + sparse_matrix\n",
    "k = 6 \n",
    "eigenvalues, eigenvectors = eigsh(sparse_matrix, k=k, which='LM')\n",
    "\n",
    "print(\"Eigenvalues:\\n\", eigenvalues)\n",
    "print(\"\\nEigenvectors:\\n\", eigenvectors)\n"
   ]
  },
  {
   "cell_type": "code",
   "execution_count": null,
   "id": "0b72c6c2-0389-41e9-9f25-b582d777e573",
   "metadata": {},
   "outputs": [],
   "source": []
  }
 ],
 "metadata": {
  "kernelspec": {
   "display_name": "Python 3 (ipykernel)",
   "language": "python",
   "name": "python3"
  },
  "language_info": {
   "codemirror_mode": {
    "name": "ipython",
    "version": 3
   },
   "file_extension": ".py",
   "mimetype": "text/x-python",
   "name": "python",
   "nbconvert_exporter": "python",
   "pygments_lexer": "ipython3",
   "version": "3.12.4"
  }
 },
 "nbformat": 4,
 "nbformat_minor": 5
}
